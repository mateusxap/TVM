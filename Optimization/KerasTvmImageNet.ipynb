{
 "metadata": {
  "kernelspec": {
   "language": "python",
   "display_name": "Python 3",
   "name": "python3"
  },
  "language_info": {
   "name": "python",
   "version": "3.10.13",
   "mimetype": "text/x-python",
   "codemirror_mode": {
    "name": "ipython",
    "version": 3
   },
   "pygments_lexer": "ipython3",
   "nbconvert_exporter": "python",
   "file_extension": ".py"
  },
  "kaggle": {
   "accelerator": "nvidiaTeslaT4",
   "dataSources": [
    {
     "sourceId": 4886313,
     "sourceType": "datasetVersion",
     "datasetId": 2833220
    },
    {
     "sourceId": 7866779,
     "sourceType": "datasetVersion",
     "datasetId": 4615422
    }
   ],
   "dockerImageVersionId": 30664,
   "isInternetEnabled": true,
   "language": "python",
   "sourceType": "notebook",
   "isGpuEnabled": true
  }
 },
 "nbformat_minor": 4,
 "nbformat": 4,
 "cells": [
  {
   "cell_type": "code",
   "source": [
    "!pip install apache-tvm\n",
    "!pip install torch"
   ],
   "metadata": {
    "_uuid": "8f2839f25d086af736a60e9eeb907d3b93b6e0e5",
    "_cell_guid": "b1076dfc-b9ad-4769-8c92-a6c4dae69d19",
    "execution": {
     "iopub.status.busy": "2024-03-17T17:39:32.064085Z",
     "iopub.execute_input": "2024-03-17T17:39:32.064379Z",
     "iopub.status.idle": "2024-03-17T17:40:03.957977Z",
     "shell.execute_reply.started": "2024-03-17T17:39:32.064353Z",
     "shell.execute_reply": "2024-03-17T17:40:03.956885Z"
    },
    "trusted": true
   },
   "execution_count": 1,
   "outputs": [
    {
     "name": "stdout",
     "text": "Collecting apache-tvm\n  Downloading apache_tvm-0.11.1-cp310-cp310-manylinux_2_17_x86_64.manylinux2014_x86_64.whl.metadata (8.3 kB)\nRequirement already satisfied: attrs in /opt/conda/lib/python3.10/site-packages (from apache-tvm) (23.2.0)\nRequirement already satisfied: cloudpickle in /opt/conda/lib/python3.10/site-packages (from apache-tvm) (2.2.1)\nRequirement already satisfied: decorator in /opt/conda/lib/python3.10/site-packages (from apache-tvm) (5.1.1)\nRequirement already satisfied: numpy in /opt/conda/lib/python3.10/site-packages (from apache-tvm) (1.26.4)\nRequirement already satisfied: psutil in /opt/conda/lib/python3.10/site-packages (from apache-tvm) (5.9.3)\nRequirement already satisfied: scipy in /opt/conda/lib/python3.10/site-packages (from apache-tvm) (1.11.4)\nCollecting synr==0.6.0 (from apache-tvm)\n  Downloading synr-0.6.0-py3-none-any.whl.metadata (1.2 kB)\nRequirement already satisfied: tornado in /opt/conda/lib/python3.10/site-packages (from apache-tvm) (6.3.3)\nRequirement already satisfied: typing-extensions in /opt/conda/lib/python3.10/site-packages (from apache-tvm) (4.9.0)\nDownloading apache_tvm-0.11.1-cp310-cp310-manylinux_2_17_x86_64.manylinux2014_x86_64.whl (47.2 MB)\n\u001B[2K   \u001B[90m━━━━━━━━━━━━━━━━━━━━━━━━━━━━━━━━━━━━━━━━\u001B[0m \u001B[32m47.2/47.2 MB\u001B[0m \u001B[31m30.4 MB/s\u001B[0m eta \u001B[36m0:00:00\u001B[0m:00:01\u001B[0m00:01\u001B[0m\n\u001B[?25hDownloading synr-0.6.0-py3-none-any.whl (18 kB)\nInstalling collected packages: synr, apache-tvm\nSuccessfully installed apache-tvm-0.11.1 synr-0.6.0\nRequirement already satisfied: torch in /opt/conda/lib/python3.10/site-packages (2.1.2)\nRequirement already satisfied: filelock in /opt/conda/lib/python3.10/site-packages (from torch) (3.13.1)\nRequirement already satisfied: typing-extensions in /opt/conda/lib/python3.10/site-packages (from torch) (4.9.0)\nRequirement already satisfied: sympy in /opt/conda/lib/python3.10/site-packages (from torch) (1.12)\nRequirement already satisfied: networkx in /opt/conda/lib/python3.10/site-packages (from torch) (3.2.1)\nRequirement already satisfied: jinja2 in /opt/conda/lib/python3.10/site-packages (from torch) (3.1.2)\nRequirement already satisfied: fsspec in /opt/conda/lib/python3.10/site-packages (from torch) (2024.2.0)\nRequirement already satisfied: MarkupSafe>=2.0 in /opt/conda/lib/python3.10/site-packages (from jinja2->torch) (2.1.3)\nRequirement already satisfied: mpmath>=0.19 in /opt/conda/lib/python3.10/site-packages (from sympy->torch) (1.3.0)\n",
     "output_type": "stream"
    }
   ]
  },
  {
   "cell_type": "code",
   "source": [
    "# !sudo apt install nvidia-cuda-toolkit -y\n",
    "# !conda install -c conda-forge cudatoolkit=11.2.2 cudnn=8.1.0 -y\n"
   ],
   "metadata": {
    "execution": {
     "iopub.status.busy": "2024-03-17T17:40:03.959993Z",
     "iopub.execute_input": "2024-03-17T17:40:03.960294Z",
     "iopub.status.idle": "2024-03-17T17:40:03.964384Z",
     "shell.execute_reply.started": "2024-03-17T17:40:03.960266Z",
     "shell.execute_reply": "2024-03-17T17:40:03.963534Z"
    },
    "trusted": true
   },
   "execution_count": 2,
   "outputs": []
  },
  {
   "cell_type": "code",
   "source": [
    "# !export LD_LIBRARY_PATH=$LD_LIBRARY_PATH:/home/valeradanger/miniconda3/pkgs/cudatoolkit-11.2.2-hbe64b41_10/lib/\n",
    "# !export LD_LIBRARY_PATH=$LD_LIBRARY_PATH:/usr/lib/x86_64-linux-gnu"
   ],
   "metadata": {
    "execution": {
     "iopub.status.busy": "2024-03-17T17:40:03.965591Z",
     "iopub.execute_input": "2024-03-17T17:40:03.965875Z",
     "iopub.status.idle": "2024-03-17T17:40:03.978177Z",
     "shell.execute_reply.started": "2024-03-17T17:40:03.965851Z",
     "shell.execute_reply": "2024-03-17T17:40:03.977292Z"
    },
    "trusted": true
   },
   "execution_count": 3,
   "outputs": []
  },
  {
   "cell_type": "code",
   "source": [
    "# print(\"Num GPUs Available: \", len(tf.config.list_physical_devices('GPU')))"
   ],
   "metadata": {
    "execution": {
     "iopub.status.busy": "2024-03-17T17:40:03.980422Z",
     "iopub.execute_input": "2024-03-17T17:40:03.980819Z",
     "iopub.status.idle": "2024-03-17T17:40:03.991020Z",
     "shell.execute_reply.started": "2024-03-17T17:40:03.980796Z",
     "shell.execute_reply": "2024-03-17T17:40:03.990169Z"
    },
    "trusted": true
   },
   "execution_count": 4,
   "outputs": []
  },
  {
   "cell_type": "code",
   "source": [
    "# !pip install \"tensorflow<2.11\" "
   ],
   "metadata": {
    "execution": {
     "iopub.status.busy": "2024-03-17T17:40:03.991979Z",
     "iopub.execute_input": "2024-03-17T17:40:03.992743Z",
     "iopub.status.idle": "2024-03-17T17:40:04.003574Z",
     "shell.execute_reply.started": "2024-03-17T17:40:03.992707Z",
     "shell.execute_reply": "2024-03-17T17:40:04.002769Z"
    },
    "trusted": true
   },
   "execution_count": 5,
   "outputs": []
  },
  {
   "cell_type": "code",
   "source": [
    "# !pip install tensorflow[and-cuda]==2.12"
   ],
   "metadata": {
    "execution": {
     "iopub.status.busy": "2024-03-17T17:40:04.005145Z",
     "iopub.execute_input": "2024-03-17T17:40:04.005454Z",
     "iopub.status.idle": "2024-03-17T17:40:04.015673Z",
     "shell.execute_reply.started": "2024-03-17T17:40:04.005425Z",
     "shell.execute_reply": "2024-03-17T17:40:04.014821Z"
    },
    "trusted": true
   },
   "execution_count": 6,
   "outputs": []
  },
  {
   "cell_type": "code",
   "source": [
    "!pip install tensorflow==2.12 keras==2.12 matplotlib"
   ],
   "metadata": {
    "execution": {
     "iopub.status.busy": "2024-03-17T17:40:04.016661Z",
     "iopub.execute_input": "2024-03-17T17:40:04.016969Z",
     "iopub.status.idle": "2024-03-17T17:41:40.646115Z",
     "shell.execute_reply.started": "2024-03-17T17:40:04.016939Z",
     "shell.execute_reply": "2024-03-17T17:41:40.644764Z"
    },
    "trusted": true
   },
   "execution_count": 7,
   "outputs": [
    {
     "name": "stdout",
     "text": "Collecting tensorflow==2.12\n  Downloading tensorflow-2.12.0-cp310-cp310-manylinux_2_17_x86_64.manylinux2014_x86_64.whl.metadata (3.4 kB)\nCollecting keras==2.12\n  Downloading keras-2.12.0-py2.py3-none-any.whl.metadata (1.4 kB)\nRequirement already satisfied: matplotlib in /opt/conda/lib/python3.10/site-packages (3.7.5)\nRequirement already satisfied: absl-py>=1.0.0 in /opt/conda/lib/python3.10/site-packages (from tensorflow==2.12) (1.4.0)\nRequirement already satisfied: astunparse>=1.6.0 in /opt/conda/lib/python3.10/site-packages (from tensorflow==2.12) (1.6.3)\nRequirement already satisfied: flatbuffers>=2.0 in /opt/conda/lib/python3.10/site-packages (from tensorflow==2.12) (23.5.26)\nCollecting gast<=0.4.0,>=0.2.1 (from tensorflow==2.12)\n  Downloading gast-0.4.0-py3-none-any.whl.metadata (1.1 kB)\nRequirement already satisfied: google-pasta>=0.1.1 in /opt/conda/lib/python3.10/site-packages (from tensorflow==2.12) (0.2.0)\nRequirement already satisfied: grpcio<2.0,>=1.24.3 in /opt/conda/lib/python3.10/site-packages (from tensorflow==2.12) (1.51.1)\nRequirement already satisfied: h5py>=2.9.0 in /opt/conda/lib/python3.10/site-packages (from tensorflow==2.12) (3.10.0)\nRequirement already satisfied: jax>=0.3.15 in /opt/conda/lib/python3.10/site-packages (from tensorflow==2.12) (0.4.23)\nRequirement already satisfied: libclang>=13.0.0 in /opt/conda/lib/python3.10/site-packages (from tensorflow==2.12) (16.0.6)\nCollecting numpy<1.24,>=1.22 (from tensorflow==2.12)\n  Downloading numpy-1.23.5-cp310-cp310-manylinux_2_17_x86_64.manylinux2014_x86_64.whl.metadata (2.3 kB)\nRequirement already satisfied: opt-einsum>=2.3.2 in /opt/conda/lib/python3.10/site-packages (from tensorflow==2.12) (3.3.0)\nRequirement already satisfied: packaging in /opt/conda/lib/python3.10/site-packages (from tensorflow==2.12) (21.3)\nRequirement already satisfied: protobuf!=4.21.0,!=4.21.1,!=4.21.2,!=4.21.3,!=4.21.4,!=4.21.5,<5.0.0dev,>=3.20.3 in /opt/conda/lib/python3.10/site-packages (from tensorflow==2.12) (3.20.3)\nRequirement already satisfied: setuptools in /opt/conda/lib/python3.10/site-packages (from tensorflow==2.12) (69.0.3)\nRequirement already satisfied: six>=1.12.0 in /opt/conda/lib/python3.10/site-packages (from tensorflow==2.12) (1.16.0)\nCollecting tensorboard<2.13,>=2.12 (from tensorflow==2.12)\n  Downloading tensorboard-2.12.3-py3-none-any.whl.metadata (1.8 kB)\nCollecting tensorflow-estimator<2.13,>=2.12.0 (from tensorflow==2.12)\n  Downloading tensorflow_estimator-2.12.0-py2.py3-none-any.whl.metadata (1.3 kB)\nRequirement already satisfied: termcolor>=1.1.0 in /opt/conda/lib/python3.10/site-packages (from tensorflow==2.12) (2.4.0)\nRequirement already satisfied: typing-extensions>=3.6.6 in /opt/conda/lib/python3.10/site-packages (from tensorflow==2.12) (4.9.0)\nRequirement already satisfied: wrapt<1.15,>=1.11.0 in /opt/conda/lib/python3.10/site-packages (from tensorflow==2.12) (1.14.1)\nRequirement already satisfied: tensorflow-io-gcs-filesystem>=0.23.1 in /opt/conda/lib/python3.10/site-packages (from tensorflow==2.12) (0.35.0)\nRequirement already satisfied: contourpy>=1.0.1 in /opt/conda/lib/python3.10/site-packages (from matplotlib) (1.2.0)\nRequirement already satisfied: cycler>=0.10 in /opt/conda/lib/python3.10/site-packages (from matplotlib) (0.12.1)\nRequirement already satisfied: fonttools>=4.22.0 in /opt/conda/lib/python3.10/site-packages (from matplotlib) (4.47.0)\nRequirement already satisfied: kiwisolver>=1.0.1 in /opt/conda/lib/python3.10/site-packages (from matplotlib) (1.4.5)\nRequirement already satisfied: pillow>=6.2.0 in /opt/conda/lib/python3.10/site-packages (from matplotlib) (9.5.0)\nRequirement already satisfied: pyparsing>=2.3.1 in /opt/conda/lib/python3.10/site-packages (from matplotlib) (3.1.1)\nRequirement already satisfied: python-dateutil>=2.7 in /opt/conda/lib/python3.10/site-packages (from matplotlib) (2.8.2)\nRequirement already satisfied: wheel<1.0,>=0.23.0 in /opt/conda/lib/python3.10/site-packages (from astunparse>=1.6.0->tensorflow==2.12) (0.42.0)\nRequirement already satisfied: ml-dtypes>=0.2.0 in /opt/conda/lib/python3.10/site-packages (from jax>=0.3.15->tensorflow==2.12) (0.2.0)\nRequirement already satisfied: scipy>=1.9 in /opt/conda/lib/python3.10/site-packages (from jax>=0.3.15->tensorflow==2.12) (1.11.4)\nRequirement already satisfied: google-auth<3,>=1.6.3 in /opt/conda/lib/python3.10/site-packages (from tensorboard<2.13,>=2.12->tensorflow==2.12) (2.26.1)\nCollecting google-auth-oauthlib<1.1,>=0.5 (from tensorboard<2.13,>=2.12->tensorflow==2.12)\n  Downloading google_auth_oauthlib-1.0.0-py2.py3-none-any.whl.metadata (2.7 kB)\nRequirement already satisfied: markdown>=2.6.8 in /opt/conda/lib/python3.10/site-packages (from tensorboard<2.13,>=2.12->tensorflow==2.12) (3.5.2)\nRequirement already satisfied: requests<3,>=2.21.0 in /opt/conda/lib/python3.10/site-packages (from tensorboard<2.13,>=2.12->tensorflow==2.12) (2.31.0)\nRequirement already satisfied: tensorboard-data-server<0.8.0,>=0.7.0 in /opt/conda/lib/python3.10/site-packages (from tensorboard<2.13,>=2.12->tensorflow==2.12) (0.7.2)\nRequirement already satisfied: werkzeug>=1.0.1 in /opt/conda/lib/python3.10/site-packages (from tensorboard<2.13,>=2.12->tensorflow==2.12) (3.0.1)\nRequirement already satisfied: cachetools<6.0,>=2.0.0 in /opt/conda/lib/python3.10/site-packages (from google-auth<3,>=1.6.3->tensorboard<2.13,>=2.12->tensorflow==2.12) (4.2.4)\nRequirement already satisfied: pyasn1-modules>=0.2.1 in /opt/conda/lib/python3.10/site-packages (from google-auth<3,>=1.6.3->tensorboard<2.13,>=2.12->tensorflow==2.12) (0.3.0)\nRequirement already satisfied: rsa<5,>=3.1.4 in /opt/conda/lib/python3.10/site-packages (from google-auth<3,>=1.6.3->tensorboard<2.13,>=2.12->tensorflow==2.12) (4.9)\nRequirement already satisfied: requests-oauthlib>=0.7.0 in /opt/conda/lib/python3.10/site-packages (from google-auth-oauthlib<1.1,>=0.5->tensorboard<2.13,>=2.12->tensorflow==2.12) (1.3.1)\nRequirement already satisfied: charset-normalizer<4,>=2 in /opt/conda/lib/python3.10/site-packages (from requests<3,>=2.21.0->tensorboard<2.13,>=2.12->tensorflow==2.12) (3.3.2)\nRequirement already satisfied: idna<4,>=2.5 in /opt/conda/lib/python3.10/site-packages (from requests<3,>=2.21.0->tensorboard<2.13,>=2.12->tensorflow==2.12) (3.6)\nRequirement already satisfied: urllib3<3,>=1.21.1 in /opt/conda/lib/python3.10/site-packages (from requests<3,>=2.21.0->tensorboard<2.13,>=2.12->tensorflow==2.12) (1.26.18)\nRequirement already satisfied: certifi>=2017.4.17 in /opt/conda/lib/python3.10/site-packages (from requests<3,>=2.21.0->tensorboard<2.13,>=2.12->tensorflow==2.12) (2024.2.2)\nRequirement already satisfied: MarkupSafe>=2.1.1 in /opt/conda/lib/python3.10/site-packages (from werkzeug>=1.0.1->tensorboard<2.13,>=2.12->tensorflow==2.12) (2.1.3)\nRequirement already satisfied: pyasn1<0.6.0,>=0.4.6 in /opt/conda/lib/python3.10/site-packages (from pyasn1-modules>=0.2.1->google-auth<3,>=1.6.3->tensorboard<2.13,>=2.12->tensorflow==2.12) (0.5.1)\nRequirement already satisfied: oauthlib>=3.0.0 in /opt/conda/lib/python3.10/site-packages (from requests-oauthlib>=0.7.0->google-auth-oauthlib<1.1,>=0.5->tensorboard<2.13,>=2.12->tensorflow==2.12) (3.2.2)\nDownloading tensorflow-2.12.0-cp310-cp310-manylinux_2_17_x86_64.manylinux2014_x86_64.whl (585.9 MB)\n\u001B[2K   \u001B[90m━━━━━━━━━━━━━━━━━━━━━━━━━━━━━━━━━━━━━━━━\u001B[0m \u001B[32m585.9/585.9 MB\u001B[0m \u001B[31m2.8 MB/s\u001B[0m eta \u001B[36m0:00:00\u001B[0m:00:01\u001B[0m00:01\u001B[0m\n\u001B[?25hDownloading keras-2.12.0-py2.py3-none-any.whl (1.7 MB)\n\u001B[2K   \u001B[90m━━━━━━━━━━━━━━━━━━━━━━━━━━━━━━━━━━━━━━━━\u001B[0m \u001B[32m1.7/1.7 MB\u001B[0m \u001B[31m54.9 MB/s\u001B[0m eta \u001B[36m0:00:00\u001B[0m\n\u001B[?25hDownloading gast-0.4.0-py3-none-any.whl (9.8 kB)\nDownloading numpy-1.23.5-cp310-cp310-manylinux_2_17_x86_64.manylinux2014_x86_64.whl (17.1 MB)\n\u001B[2K   \u001B[90m━━━━━━━━━━━━━━━━━━━━━━━━━━━━━━━━━━━━━━━━\u001B[0m \u001B[32m17.1/17.1 MB\u001B[0m \u001B[31m52.8 MB/s\u001B[0m eta \u001B[36m0:00:00\u001B[0m00:01\u001B[0m00:01\u001B[0mm\n\u001B[?25hDownloading tensorboard-2.12.3-py3-none-any.whl (5.6 MB)\n\u001B[2K   \u001B[90m━━━━━━━━━━━━━━━━━━━━━━━━━━━━━━━━━━━━━━━━\u001B[0m \u001B[32m5.6/5.6 MB\u001B[0m \u001B[31m71.2 MB/s\u001B[0m eta \u001B[36m0:00:00\u001B[0m:00:01\u001B[0m00:01\u001B[0m\n\u001B[?25hDownloading tensorflow_estimator-2.12.0-py2.py3-none-any.whl (440 kB)\n\u001B[2K   \u001B[90m━━━━━━━━━━━━━━━━━━━━━━━━━━━━━━━━━━━━━━━━\u001B[0m \u001B[32m440.7/440.7 kB\u001B[0m \u001B[31m21.5 MB/s\u001B[0m eta \u001B[36m0:00:00\u001B[0m\n\u001B[?25hDownloading google_auth_oauthlib-1.0.0-py2.py3-none-any.whl (18 kB)\nInstalling collected packages: tensorflow-estimator, numpy, keras, gast, google-auth-oauthlib, tensorboard, tensorflow\n  Attempting uninstall: tensorflow-estimator\n    Found existing installation: tensorflow-estimator 2.15.0\n    Uninstalling tensorflow-estimator-2.15.0:\n      Successfully uninstalled tensorflow-estimator-2.15.0\n  Attempting uninstall: numpy\n    Found existing installation: numpy 1.26.4\n    Uninstalling numpy-1.26.4:\n      Successfully uninstalled numpy-1.26.4\n  Attempting uninstall: keras\n    Found existing installation: keras 3.0.5\n    Uninstalling keras-3.0.5:\n      Successfully uninstalled keras-3.0.5\n  Attempting uninstall: gast\n    Found existing installation: gast 0.5.4\n    Uninstalling gast-0.5.4:\n      Successfully uninstalled gast-0.5.4\n  Attempting uninstall: google-auth-oauthlib\n    Found existing installation: google-auth-oauthlib 1.2.0\n    Uninstalling google-auth-oauthlib-1.2.0:\n      Successfully uninstalled google-auth-oauthlib-1.2.0\n  Attempting uninstall: tensorboard\n    Found existing installation: tensorboard 2.15.1\n    Uninstalling tensorboard-2.15.1:\n      Successfully uninstalled tensorboard-2.15.1\n  Attempting uninstall: tensorflow\n    Found existing installation: tensorflow 2.15.0\n    Uninstalling tensorflow-2.15.0:\n      Successfully uninstalled tensorflow-2.15.0\n\u001B[31mERROR: pip's dependency resolver does not currently take into account all the packages that are installed. This behaviour is the source of the following dependency conflicts.\ncudf 23.8.0 requires cubinlinker, which is not installed.\ncudf 23.8.0 requires cupy-cuda11x>=12.0.0, which is not installed.\ncudf 23.8.0 requires ptxcompiler, which is not installed.\ncuml 23.8.0 requires cupy-cuda11x>=12.0.0, which is not installed.\ndask-cudf 23.8.0 requires cupy-cuda11x>=12.0.0, which is not installed.\nkeras-nlp 0.8.1 requires keras-core, which is not installed.\ntensorflow-decision-forests 1.8.1 requires wurlitzer, which is not installed.\nalbumentations 1.4.0 requires numpy>=1.24.4, but you have numpy 1.23.5 which is incompatible.\napache-beam 2.46.0 requires dill<0.3.2,>=0.3.1.1, but you have dill 0.3.8 which is incompatible.\napache-beam 2.46.0 requires pyarrow<10.0.0,>=3.0.0, but you have pyarrow 11.0.0 which is incompatible.\nchex 0.1.85 requires numpy>=1.24.1, but you have numpy 1.23.5 which is incompatible.\ncudf 23.8.0 requires cuda-python<12.0a0,>=11.7.1, but you have cuda-python 12.3.0 which is incompatible.\ncudf 23.8.0 requires pandas<1.6.0dev0,>=1.3, but you have pandas 2.1.4 which is incompatible.\ncudf 23.8.0 requires protobuf<5,>=4.21, but you have protobuf 3.20.3 which is incompatible.\ncuml 23.8.0 requires dask==2023.7.1, but you have dask 2024.2.0 which is incompatible.\ndask-cuda 23.8.0 requires dask==2023.7.1, but you have dask 2024.2.0 which is incompatible.\ndask-cuda 23.8.0 requires pandas<1.6.0dev0,>=1.3, but you have pandas 2.1.4 which is incompatible.\ndask-cudf 23.8.0 requires dask==2023.7.1, but you have dask 2024.2.0 which is incompatible.\ndask-cudf 23.8.0 requires pandas<1.6.0dev0,>=1.3, but you have pandas 2.1.4 which is incompatible.\ngcsfs 2023.12.2.post1 requires fsspec==2023.12.2, but you have fsspec 2024.2.0 which is incompatible.\nlibpysal 4.9.2 requires packaging>=22, but you have packaging 21.3 which is incompatible.\nlibpysal 4.9.2 requires shapely>=2.0.1, but you have shapely 1.8.5.post1 which is incompatible.\nmomepy 0.7.0 requires shapely>=2, but you have shapely 1.8.5.post1 which is incompatible.\nosmnx 1.9.1 requires shapely>=2.0, but you have shapely 1.8.5.post1 which is incompatible.\npyldavis 3.4.1 requires numpy>=1.24.2, but you have numpy 1.23.5 which is incompatible.\npylibraft 23.8.0 requires cuda-python<12.0a0,>=11.7.1, but you have cuda-python 12.3.0 which is incompatible.\nraft-dask 23.8.0 requires dask==2023.7.1, but you have dask 2024.2.0 which is incompatible.\nrmm 23.8.0 requires cuda-python<12.0a0,>=11.7.1, but you have cuda-python 12.3.0 which is incompatible.\nspopt 0.6.0 requires shapely>=2.0.1, but you have shapely 1.8.5.post1 which is incompatible.\ntensorflow-decision-forests 1.8.1 requires tensorflow~=2.15.0, but you have tensorflow 2.12.0 which is incompatible.\ntensorflow-serving-api 2.14.1 requires tensorflow<3,>=2.14.1, but you have tensorflow 2.12.0 which is incompatible.\ntensorflow-text 2.15.0 requires tensorflow<2.16,>=2.15.0; platform_machine != \"arm64\" or platform_system != \"Darwin\", but you have tensorflow 2.12.0 which is incompatible.\ntensorstore 0.1.53 requires ml-dtypes>=0.3.1, but you have ml-dtypes 0.2.0 which is incompatible.\nwoodwork 0.28.0 requires numpy<2.0.0,>=1.25.0, but you have numpy 1.23.5 which is incompatible.\nxarray 2024.2.0 requires packaging>=22, but you have packaging 21.3 which is incompatible.\u001B[0m\u001B[31m\n\u001B[0mSuccessfully installed gast-0.4.0 google-auth-oauthlib-1.0.0 keras-2.12.0 numpy-1.23.5 tensorboard-2.12.3 tensorflow-2.12.0 tensorflow-estimator-2.12.0\n",
     "output_type": "stream"
    }
   ]
  },
  {
   "cell_type": "code",
   "source": [
    "import tvm\n",
    "from tvm import relay\n",
    "from tvm.contrib import graph_executor\n",
    "import os\n",
    "import time\n",
    "from keras.utils import to_categorical\n",
    "import numpy as np\n",
    "import matplotlib.pyplot as plt # plot the first image in the dataset\n",
    "import keras\n",
    "import tensorflow as tf\n",
    "from keras.applications.resnet import ResNet50\n",
    "from tvm import auto_scheduler"
   ],
   "metadata": {
    "execution": {
     "iopub.status.busy": "2024-03-17T17:43:22.707855Z",
     "iopub.execute_input": "2024-03-17T17:43:22.708373Z",
     "iopub.status.idle": "2024-03-17T17:43:26.091739Z",
     "shell.execute_reply.started": "2024-03-17T17:43:22.708327Z",
     "shell.execute_reply": "2024-03-17T17:43:26.090654Z"
    },
    "trusted": true
   },
   "execution_count": 2,
   "outputs": []
  },
  {
   "cell_type": "code",
   "source": [
    "from tensorflow.keras.preprocessing import image\n",
    "from keras.applications.imagenet_utils import decode_predictions\n",
    "from keras.applications.imagenet_utils import preprocess_input"
   ],
   "metadata": {
    "execution": {
     "iopub.status.busy": "2024-03-17T17:43:26.093577Z",
     "iopub.execute_input": "2024-03-17T17:43:26.094335Z",
     "iopub.status.idle": "2024-03-17T17:43:26.356818Z",
     "shell.execute_reply.started": "2024-03-17T17:43:26.094293Z",
     "shell.execute_reply": "2024-03-17T17:43:26.355803Z"
    },
    "trusted": true
   },
   "execution_count": 3,
   "outputs": []
  },
  {
   "cell_type": "code",
   "source": [
    "import os\n",
    "#n01632777 акселотли\n",
    "folder_path = \"/kaggle/input/imagenet-validation-dataset/imagenet_validation/n01632777\"\n",
    "image_files = [file for file in os.listdir(folder_path) if file.lower().endswith(('.jpg', '.png', '.jpeg'))]\n",
    "print(image_files)"
   ],
   "metadata": {
    "execution": {
     "iopub.status.busy": "2024-03-17T17:43:27.963526Z",
     "iopub.execute_input": "2024-03-17T17:43:27.964704Z",
     "iopub.status.idle": "2024-03-17T17:43:27.979164Z",
     "shell.execute_reply.started": "2024-03-17T17:43:27.964667Z",
     "shell.execute_reply": "2024-03-17T17:43:27.978239Z"
    },
    "trusted": true
   },
   "execution_count": 4,
   "outputs": [
    {
     "name": "stdout",
     "text": "['ILSVRC2012_val_00046976.JPEG', 'ILSVRC2012_val_00011474.JPEG', 'ILSVRC2012_val_00041298.JPEG', 'ILSVRC2012_val_00022113.JPEG', 'ILSVRC2012_val_00037046.JPEG', 'ILSVRC2012_val_00003860.JPEG', 'ILSVRC2012_val_00013940.JPEG', 'ILSVRC2012_val_00006694.JPEG', 'ILSVRC2012_val_00017274.JPEG', 'ILSVRC2012_val_00022771.JPEG', 'ILSVRC2012_val_00007486.JPEG', 'ILSVRC2012_val_00035529.JPEG', 'ILSVRC2012_val_00016514.JPEG', 'ILSVRC2012_val_00004084.JPEG', 'ILSVRC2012_val_00005172.JPEG', 'ILSVRC2012_val_00039922.JPEG', 'ILSVRC2012_val_00025438.JPEG', 'ILSVRC2012_val_00016441.JPEG', 'ILSVRC2012_val_00045656.JPEG', 'ILSVRC2012_val_00022925.JPEG', 'ILSVRC2012_val_00040894.JPEG', 'ILSVRC2012_val_00047938.JPEG', 'ILSVRC2012_val_00002524.JPEG', 'ILSVRC2012_val_00017899.JPEG', 'ILSVRC2012_val_00044504.JPEG', 'ILSVRC2012_val_00020430.JPEG', 'ILSVRC2012_val_00045553.JPEG', 'ILSVRC2012_val_00036495.JPEG', 'ILSVRC2012_val_00020772.JPEG', 'ILSVRC2012_val_00006579.JPEG', 'ILSVRC2012_val_00008686.JPEG', 'ILSVRC2012_val_00035654.JPEG', 'ILSVRC2012_val_00045924.JPEG', 'ILSVRC2012_val_00019710.JPEG', 'ILSVRC2012_val_00025348.JPEG', 'ILSVRC2012_val_00027929.JPEG', 'ILSVRC2012_val_00033412.JPEG', 'ILSVRC2012_val_00040769.JPEG', 'ILSVRC2012_val_00048148.JPEG', 'ILSVRC2012_val_00042302.JPEG', 'ILSVRC2012_val_00017372.JPEG', 'ILSVRC2012_val_00009946.JPEG', 'ILSVRC2012_val_00034583.JPEG', 'ILSVRC2012_val_00001138.JPEG', 'ILSVRC2012_val_00000052.JPEG', 'ILSVRC2012_val_00031235.JPEG', 'ILSVRC2012_val_00044893.JPEG', 'ILSVRC2012_val_00017228.JPEG', 'ILSVRC2012_val_00031386.JPEG', 'ILSVRC2012_val_00029500.JPEG']\n",
     "output_type": "stream"
    }
   ]
  },
  {
   "cell_type": "code",
   "source": [
    "# physical_devices = tf.config.experimental.list_physical_devices('GPU')\n",
    "# if len(physical_devices) > 0:\n",
    "#     tf.config.experimental.set_memory_growth(physical_devices[0], True)\n",
    "all_images = []\n",
    "for img_name in image_files:\n",
    "    img_path = f'/kaggle/input/imagenet-validation-dataset/imagenet_validation/n01632777/{img_name}'\n",
    "    img = image.load_img(img_path,target_size=(224,224))\n",
    "    x = image.img_to_array(img)\n",
    "    #x = np.expand_dims(x,axis=0) #(num_samples, 224, 224, 3) нужно если по одной\n",
    "    x = preprocess_input(x)\n",
    "    all_images.append(x)\n",
    "\n",
    "x_data = np.array(all_images)\n",
    "print(x_data.shape)\n",
    "\n",
    "# (x_train, y_train), (x_test, y_test) = cifar10.load_data() #(num_samples, 224, 224, 3)\n",
    "# y_train = to_categorical(y_train)\n",
    "# y_test = to_categorical(y_test)\n",
    "# x_train = x_train.reshape(50000,32,32,3)\n",
    "# x_test = x_test.reshape(10000,32,32,3)\n",
    "\n",
    "# print(x_train.shape)\n",
    "# print(x_test.shape)"
   ],
   "metadata": {
    "execution": {
     "iopub.status.busy": "2024-03-17T17:43:30.006023Z",
     "iopub.execute_input": "2024-03-17T17:43:30.006737Z",
     "iopub.status.idle": "2024-03-17T17:43:30.265166Z",
     "shell.execute_reply.started": "2024-03-17T17:43:30.006704Z",
     "shell.execute_reply": "2024-03-17T17:43:30.264032Z"
    },
    "trusted": true
   },
   "execution_count": 5,
   "outputs": [
    {
     "name": "stdout",
     "text": "(50, 224, 224, 3)\n",
     "output_type": "stream"
    }
   ]
  },
  {
   "cell_type": "code",
   "source": [
    "model = ResNet50(\n",
    "    weights=\"imagenet\",\n",
    ")\n",
    "\n",
    "model.compile(optimizer=\"adam\", loss=\"categorical_crossentropy\", metrics=[\"accuracy\"])\n",
    "model.summary()\n",
    "print(\"finish\")\n",
    "# #model.fit(x_train, y_train, validation_data=(x_test, y_test), epochs=30)\n",
    "# model.save(\"resnet50_cifar10ep30v2.h5\")\n",
    "#model = keras.models.load_model(\"/kaggle/input/my-files/resnet50_cifar10ep30.h5\")"
   ],
   "metadata": {
    "execution": {
     "iopub.status.busy": "2024-03-17T17:43:31.933467Z",
     "iopub.execute_input": "2024-03-17T17:43:31.933849Z",
     "iopub.status.idle": "2024-03-17T17:43:34.493671Z",
     "shell.execute_reply.started": "2024-03-17T17:43:31.933821Z",
     "shell.execute_reply": "2024-03-17T17:43:34.492536Z"
    },
    "trusted": true
   },
   "execution_count": 6,
   "outputs": [
    {
     "name": "stdout",
     "text": "Model: \"resnet50\"\n__________________________________________________________________________________________________\n Layer (type)                   Output Shape         Param #     Connected to                     \n==================================================================================================\n input_1 (InputLayer)           [(None, 224, 224, 3  0           []                               \n                                )]                                                                \n                                                                                                  \n conv1_pad (ZeroPadding2D)      (None, 230, 230, 3)  0           ['input_1[0][0]']                \n                                                                                                  \n conv1_conv (Conv2D)            (None, 112, 112, 64  9472        ['conv1_pad[0][0]']              \n                                )                                                                 \n                                                                                                  \n conv1_bn (BatchNormalization)  (None, 112, 112, 64  256         ['conv1_conv[0][0]']             \n                                )                                                                 \n                                                                                                  \n conv1_relu (Activation)        (None, 112, 112, 64  0           ['conv1_bn[0][0]']               \n                                )                                                                 \n                                                                                                  \n pool1_pad (ZeroPadding2D)      (None, 114, 114, 64  0           ['conv1_relu[0][0]']             \n                                )                                                                 \n                                                                                                  \n pool1_pool (MaxPooling2D)      (None, 56, 56, 64)   0           ['pool1_pad[0][0]']              \n                                                                                                  \n conv2_block1_1_conv (Conv2D)   (None, 56, 56, 64)   4160        ['pool1_pool[0][0]']             \n                                                                                                  \n conv2_block1_1_bn (BatchNormal  (None, 56, 56, 64)  256         ['conv2_block1_1_conv[0][0]']    \n ization)                                                                                         \n                                                                                                  \n conv2_block1_1_relu (Activatio  (None, 56, 56, 64)  0           ['conv2_block1_1_bn[0][0]']      \n n)                                                                                               \n                                                                                                  \n conv2_block1_2_conv (Conv2D)   (None, 56, 56, 64)   36928       ['conv2_block1_1_relu[0][0]']    \n                                                                                                  \n conv2_block1_2_bn (BatchNormal  (None, 56, 56, 64)  256         ['conv2_block1_2_conv[0][0]']    \n ization)                                                                                         \n                                                                                                  \n conv2_block1_2_relu (Activatio  (None, 56, 56, 64)  0           ['conv2_block1_2_bn[0][0]']      \n n)                                                                                               \n                                                                                                  \n conv2_block1_0_conv (Conv2D)   (None, 56, 56, 256)  16640       ['pool1_pool[0][0]']             \n                                                                                                  \n conv2_block1_3_conv (Conv2D)   (None, 56, 56, 256)  16640       ['conv2_block1_2_relu[0][0]']    \n                                                                                                  \n conv2_block1_0_bn (BatchNormal  (None, 56, 56, 256)  1024       ['conv2_block1_0_conv[0][0]']    \n ization)                                                                                         \n                                                                                                  \n conv2_block1_3_bn (BatchNormal  (None, 56, 56, 256)  1024       ['conv2_block1_3_conv[0][0]']    \n ization)                                                                                         \n                                                                                                  \n conv2_block1_add (Add)         (None, 56, 56, 256)  0           ['conv2_block1_0_bn[0][0]',      \n                                                                  'conv2_block1_3_bn[0][0]']      \n                                                                                                  \n conv2_block1_out (Activation)  (None, 56, 56, 256)  0           ['conv2_block1_add[0][0]']       \n                                                                                                  \n conv2_block2_1_conv (Conv2D)   (None, 56, 56, 64)   16448       ['conv2_block1_out[0][0]']       \n                                                                                                  \n conv2_block2_1_bn (BatchNormal  (None, 56, 56, 64)  256         ['conv2_block2_1_conv[0][0]']    \n ization)                                                                                         \n                                                                                                  \n conv2_block2_1_relu (Activatio  (None, 56, 56, 64)  0           ['conv2_block2_1_bn[0][0]']      \n n)                                                                                               \n                                                                                                  \n conv2_block2_2_conv (Conv2D)   (None, 56, 56, 64)   36928       ['conv2_block2_1_relu[0][0]']    \n                                                                                                  \n conv2_block2_2_bn (BatchNormal  (None, 56, 56, 64)  256         ['conv2_block2_2_conv[0][0]']    \n ization)                                                                                         \n                                                                                                  \n conv2_block2_2_relu (Activatio  (None, 56, 56, 64)  0           ['conv2_block2_2_bn[0][0]']      \n n)                                                                                               \n                                                                                                  \n conv2_block2_3_conv (Conv2D)   (None, 56, 56, 256)  16640       ['conv2_block2_2_relu[0][0]']    \n                                                                                                  \n conv2_block2_3_bn (BatchNormal  (None, 56, 56, 256)  1024       ['conv2_block2_3_conv[0][0]']    \n ization)                                                                                         \n                                                                                                  \n conv2_block2_add (Add)         (None, 56, 56, 256)  0           ['conv2_block1_out[0][0]',       \n                                                                  'conv2_block2_3_bn[0][0]']      \n                                                                                                  \n conv2_block2_out (Activation)  (None, 56, 56, 256)  0           ['conv2_block2_add[0][0]']       \n                                                                                                  \n conv2_block3_1_conv (Conv2D)   (None, 56, 56, 64)   16448       ['conv2_block2_out[0][0]']       \n                                                                                                  \n conv2_block3_1_bn (BatchNormal  (None, 56, 56, 64)  256         ['conv2_block3_1_conv[0][0]']    \n ization)                                                                                         \n                                                                                                  \n conv2_block3_1_relu (Activatio  (None, 56, 56, 64)  0           ['conv2_block3_1_bn[0][0]']      \n n)                                                                                               \n                                                                                                  \n conv2_block3_2_conv (Conv2D)   (None, 56, 56, 64)   36928       ['conv2_block3_1_relu[0][0]']    \n                                                                                                  \n conv2_block3_2_bn (BatchNormal  (None, 56, 56, 64)  256         ['conv2_block3_2_conv[0][0]']    \n ization)                                                                                         \n                                                                                                  \n conv2_block3_2_relu (Activatio  (None, 56, 56, 64)  0           ['conv2_block3_2_bn[0][0]']      \n n)                                                                                               \n                                                                                                  \n conv2_block3_3_conv (Conv2D)   (None, 56, 56, 256)  16640       ['conv2_block3_2_relu[0][0]']    \n                                                                                                  \n conv2_block3_3_bn (BatchNormal  (None, 56, 56, 256)  1024       ['conv2_block3_3_conv[0][0]']    \n ization)                                                                                         \n                                                                                                  \n conv2_block3_add (Add)         (None, 56, 56, 256)  0           ['conv2_block2_out[0][0]',       \n                                                                  'conv2_block3_3_bn[0][0]']      \n                                                                                                  \n conv2_block3_out (Activation)  (None, 56, 56, 256)  0           ['conv2_block3_add[0][0]']       \n                                                                                                  \n conv3_block1_1_conv (Conv2D)   (None, 28, 28, 128)  32896       ['conv2_block3_out[0][0]']       \n                                                                                                  \n conv3_block1_1_bn (BatchNormal  (None, 28, 28, 128)  512        ['conv3_block1_1_conv[0][0]']    \n ization)                                                                                         \n                                                                                                  \n conv3_block1_1_relu (Activatio  (None, 28, 28, 128)  0          ['conv3_block1_1_bn[0][0]']      \n n)                                                                                               \n                                                                                                  \n conv3_block1_2_conv (Conv2D)   (None, 28, 28, 128)  147584      ['conv3_block1_1_relu[0][0]']    \n                                                                                                  \n conv3_block1_2_bn (BatchNormal  (None, 28, 28, 128)  512        ['conv3_block1_2_conv[0][0]']    \n ization)                                                                                         \n                                                                                                  \n conv3_block1_2_relu (Activatio  (None, 28, 28, 128)  0          ['conv3_block1_2_bn[0][0]']      \n n)                                                                                               \n                                                                                                  \n conv3_block1_0_conv (Conv2D)   (None, 28, 28, 512)  131584      ['conv2_block3_out[0][0]']       \n                                                                                                  \n conv3_block1_3_conv (Conv2D)   (None, 28, 28, 512)  66048       ['conv3_block1_2_relu[0][0]']    \n                                                                                                  \n conv3_block1_0_bn (BatchNormal  (None, 28, 28, 512)  2048       ['conv3_block1_0_conv[0][0]']    \n ization)                                                                                         \n                                                                                                  \n conv3_block1_3_bn (BatchNormal  (None, 28, 28, 512)  2048       ['conv3_block1_3_conv[0][0]']    \n ization)                                                                                         \n                                                                                                  \n conv3_block1_add (Add)         (None, 28, 28, 512)  0           ['conv3_block1_0_bn[0][0]',      \n                                                                  'conv3_block1_3_bn[0][0]']      \n                                                                                                  \n conv3_block1_out (Activation)  (None, 28, 28, 512)  0           ['conv3_block1_add[0][0]']       \n                                                                                                  \n conv3_block2_1_conv (Conv2D)   (None, 28, 28, 128)  65664       ['conv3_block1_out[0][0]']       \n                                                                                                  \n conv3_block2_1_bn (BatchNormal  (None, 28, 28, 128)  512        ['conv3_block2_1_conv[0][0]']    \n ization)                                                                                         \n                                                                                                  \n conv3_block2_1_relu (Activatio  (None, 28, 28, 128)  0          ['conv3_block2_1_bn[0][0]']      \n n)                                                                                               \n                                                                                                  \n conv3_block2_2_conv (Conv2D)   (None, 28, 28, 128)  147584      ['conv3_block2_1_relu[0][0]']    \n                                                                                                  \n conv3_block2_2_bn (BatchNormal  (None, 28, 28, 128)  512        ['conv3_block2_2_conv[0][0]']    \n ization)                                                                                         \n                                                                                                  \n conv3_block2_2_relu (Activatio  (None, 28, 28, 128)  0          ['conv3_block2_2_bn[0][0]']      \n n)                                                                                               \n                                                                                                  \n conv3_block2_3_conv (Conv2D)   (None, 28, 28, 512)  66048       ['conv3_block2_2_relu[0][0]']    \n                                                                                                  \n conv3_block2_3_bn (BatchNormal  (None, 28, 28, 512)  2048       ['conv3_block2_3_conv[0][0]']    \n ization)                                                                                         \n                                                                                                  \n conv3_block2_add (Add)         (None, 28, 28, 512)  0           ['conv3_block1_out[0][0]',       \n                                                                  'conv3_block2_3_bn[0][0]']      \n                                                                                                  \n conv3_block2_out (Activation)  (None, 28, 28, 512)  0           ['conv3_block2_add[0][0]']       \n                                                                                                  \n conv3_block3_1_conv (Conv2D)   (None, 28, 28, 128)  65664       ['conv3_block2_out[0][0]']       \n                                                                                                  \n conv3_block3_1_bn (BatchNormal  (None, 28, 28, 128)  512        ['conv3_block3_1_conv[0][0]']    \n ization)                                                                                         \n                                                                                                  \n conv3_block3_1_relu (Activatio  (None, 28, 28, 128)  0          ['conv3_block3_1_bn[0][0]']      \n n)                                                                                               \n                                                                                                  \n conv3_block3_2_conv (Conv2D)   (None, 28, 28, 128)  147584      ['conv3_block3_1_relu[0][0]']    \n                                                                                                  \n conv3_block3_2_bn (BatchNormal  (None, 28, 28, 128)  512        ['conv3_block3_2_conv[0][0]']    \n ization)                                                                                         \n                                                                                                  \n conv3_block3_2_relu (Activatio  (None, 28, 28, 128)  0          ['conv3_block3_2_bn[0][0]']      \n n)                                                                                               \n                                                                                                  \n conv3_block3_3_conv (Conv2D)   (None, 28, 28, 512)  66048       ['conv3_block3_2_relu[0][0]']    \n                                                                                                  \n conv3_block3_3_bn (BatchNormal  (None, 28, 28, 512)  2048       ['conv3_block3_3_conv[0][0]']    \n ization)                                                                                         \n                                                                                                  \n conv3_block3_add (Add)         (None, 28, 28, 512)  0           ['conv3_block2_out[0][0]',       \n                                                                  'conv3_block3_3_bn[0][0]']      \n                                                                                                  \n conv3_block3_out (Activation)  (None, 28, 28, 512)  0           ['conv3_block3_add[0][0]']       \n                                                                                                  \n conv3_block4_1_conv (Conv2D)   (None, 28, 28, 128)  65664       ['conv3_block3_out[0][0]']       \n                                                                                                  \n conv3_block4_1_bn (BatchNormal  (None, 28, 28, 128)  512        ['conv3_block4_1_conv[0][0]']    \n ization)                                                                                         \n                                                                                                  \n conv3_block4_1_relu (Activatio  (None, 28, 28, 128)  0          ['conv3_block4_1_bn[0][0]']      \n n)                                                                                               \n                                                                                                  \n conv3_block4_2_conv (Conv2D)   (None, 28, 28, 128)  147584      ['conv3_block4_1_relu[0][0]']    \n                                                                                                  \n conv3_block4_2_bn (BatchNormal  (None, 28, 28, 128)  512        ['conv3_block4_2_conv[0][0]']    \n ization)                                                                                         \n                                                                                                  \n conv3_block4_2_relu (Activatio  (None, 28, 28, 128)  0          ['conv3_block4_2_bn[0][0]']      \n n)                                                                                               \n                                                                                                  \n conv3_block4_3_conv (Conv2D)   (None, 28, 28, 512)  66048       ['conv3_block4_2_relu[0][0]']    \n                                                                                                  \n conv3_block4_3_bn (BatchNormal  (None, 28, 28, 512)  2048       ['conv3_block4_3_conv[0][0]']    \n ization)                                                                                         \n                                                                                                  \n conv3_block4_add (Add)         (None, 28, 28, 512)  0           ['conv3_block3_out[0][0]',       \n                                                                  'conv3_block4_3_bn[0][0]']      \n                                                                                                  \n conv3_block4_out (Activation)  (None, 28, 28, 512)  0           ['conv3_block4_add[0][0]']       \n                                                                                                  \n conv4_block1_1_conv (Conv2D)   (None, 14, 14, 256)  131328      ['conv3_block4_out[0][0]']       \n                                                                                                  \n conv4_block1_1_bn (BatchNormal  (None, 14, 14, 256)  1024       ['conv4_block1_1_conv[0][0]']    \n ization)                                                                                         \n                                                                                                  \n conv4_block1_1_relu (Activatio  (None, 14, 14, 256)  0          ['conv4_block1_1_bn[0][0]']      \n n)                                                                                               \n                                                                                                  \n conv4_block1_2_conv (Conv2D)   (None, 14, 14, 256)  590080      ['conv4_block1_1_relu[0][0]']    \n                                                                                                  \n conv4_block1_2_bn (BatchNormal  (None, 14, 14, 256)  1024       ['conv4_block1_2_conv[0][0]']    \n ization)                                                                                         \n                                                                                                  \n conv4_block1_2_relu (Activatio  (None, 14, 14, 256)  0          ['conv4_block1_2_bn[0][0]']      \n n)                                                                                               \n                                                                                                  \n conv4_block1_0_conv (Conv2D)   (None, 14, 14, 1024  525312      ['conv3_block4_out[0][0]']       \n                                )                                                                 \n                                                                                                  \n conv4_block1_3_conv (Conv2D)   (None, 14, 14, 1024  263168      ['conv4_block1_2_relu[0][0]']    \n                                )                                                                 \n                                                                                                  \n conv4_block1_0_bn (BatchNormal  (None, 14, 14, 1024  4096       ['conv4_block1_0_conv[0][0]']    \n ization)                       )                                                                 \n                                                                                                  \n conv4_block1_3_bn (BatchNormal  (None, 14, 14, 1024  4096       ['conv4_block1_3_conv[0][0]']    \n ization)                       )                                                                 \n                                                                                                  \n conv4_block1_add (Add)         (None, 14, 14, 1024  0           ['conv4_block1_0_bn[0][0]',      \n                                )                                 'conv4_block1_3_bn[0][0]']      \n                                                                                                  \n conv4_block1_out (Activation)  (None, 14, 14, 1024  0           ['conv4_block1_add[0][0]']       \n                                )                                                                 \n                                                                                                  \n conv4_block2_1_conv (Conv2D)   (None, 14, 14, 256)  262400      ['conv4_block1_out[0][0]']       \n                                                                                                  \n conv4_block2_1_bn (BatchNormal  (None, 14, 14, 256)  1024       ['conv4_block2_1_conv[0][0]']    \n ization)                                                                                         \n                                                                                                  \n conv4_block2_1_relu (Activatio  (None, 14, 14, 256)  0          ['conv4_block2_1_bn[0][0]']      \n n)                                                                                               \n                                                                                                  \n conv4_block2_2_conv (Conv2D)   (None, 14, 14, 256)  590080      ['conv4_block2_1_relu[0][0]']    \n                                                                                                  \n conv4_block2_2_bn (BatchNormal  (None, 14, 14, 256)  1024       ['conv4_block2_2_conv[0][0]']    \n ization)                                                                                         \n                                                                                                  \n conv4_block2_2_relu (Activatio  (None, 14, 14, 256)  0          ['conv4_block2_2_bn[0][0]']      \n n)                                                                                               \n                                                                                                  \n conv4_block2_3_conv (Conv2D)   (None, 14, 14, 1024  263168      ['conv4_block2_2_relu[0][0]']    \n                                )                                                                 \n                                                                                                  \n conv4_block2_3_bn (BatchNormal  (None, 14, 14, 1024  4096       ['conv4_block2_3_conv[0][0]']    \n ization)                       )                                                                 \n                                                                                                  \n conv4_block2_add (Add)         (None, 14, 14, 1024  0           ['conv4_block1_out[0][0]',       \n                                )                                 'conv4_block2_3_bn[0][0]']      \n                                                                                                  \n conv4_block2_out (Activation)  (None, 14, 14, 1024  0           ['conv4_block2_add[0][0]']       \n                                )                                                                 \n                                                                                                  \n conv4_block3_1_conv (Conv2D)   (None, 14, 14, 256)  262400      ['conv4_block2_out[0][0]']       \n                                                                                                  \n conv4_block3_1_bn (BatchNormal  (None, 14, 14, 256)  1024       ['conv4_block3_1_conv[0][0]']    \n ization)                                                                                         \n                                                                                                  \n conv4_block3_1_relu (Activatio  (None, 14, 14, 256)  0          ['conv4_block3_1_bn[0][0]']      \n n)                                                                                               \n                                                                                                  \n conv4_block3_2_conv (Conv2D)   (None, 14, 14, 256)  590080      ['conv4_block3_1_relu[0][0]']    \n                                                                                                  \n conv4_block3_2_bn (BatchNormal  (None, 14, 14, 256)  1024       ['conv4_block3_2_conv[0][0]']    \n ization)                                                                                         \n                                                                                                  \n conv4_block3_2_relu (Activatio  (None, 14, 14, 256)  0          ['conv4_block3_2_bn[0][0]']      \n n)                                                                                               \n                                                                                                  \n conv4_block3_3_conv (Conv2D)   (None, 14, 14, 1024  263168      ['conv4_block3_2_relu[0][0]']    \n                                )                                                                 \n                                                                                                  \n conv4_block3_3_bn (BatchNormal  (None, 14, 14, 1024  4096       ['conv4_block3_3_conv[0][0]']    \n ization)                       )                                                                 \n                                                                                                  \n conv4_block3_add (Add)         (None, 14, 14, 1024  0           ['conv4_block2_out[0][0]',       \n                                )                                 'conv4_block3_3_bn[0][0]']      \n                                                                                                  \n conv4_block3_out (Activation)  (None, 14, 14, 1024  0           ['conv4_block3_add[0][0]']       \n                                )                                                                 \n                                                                                                  \n conv4_block4_1_conv (Conv2D)   (None, 14, 14, 256)  262400      ['conv4_block3_out[0][0]']       \n                                                                                                  \n conv4_block4_1_bn (BatchNormal  (None, 14, 14, 256)  1024       ['conv4_block4_1_conv[0][0]']    \n ization)                                                                                         \n                                                                                                  \n conv4_block4_1_relu (Activatio  (None, 14, 14, 256)  0          ['conv4_block4_1_bn[0][0]']      \n n)                                                                                               \n                                                                                                  \n conv4_block4_2_conv (Conv2D)   (None, 14, 14, 256)  590080      ['conv4_block4_1_relu[0][0]']    \n                                                                                                  \n conv4_block4_2_bn (BatchNormal  (None, 14, 14, 256)  1024       ['conv4_block4_2_conv[0][0]']    \n ization)                                                                                         \n                                                                                                  \n conv4_block4_2_relu (Activatio  (None, 14, 14, 256)  0          ['conv4_block4_2_bn[0][0]']      \n n)                                                                                               \n                                                                                                  \n conv4_block4_3_conv (Conv2D)   (None, 14, 14, 1024  263168      ['conv4_block4_2_relu[0][0]']    \n                                )                                                                 \n                                                                                                  \n conv4_block4_3_bn (BatchNormal  (None, 14, 14, 1024  4096       ['conv4_block4_3_conv[0][0]']    \n ization)                       )                                                                 \n                                                                                                  \n conv4_block4_add (Add)         (None, 14, 14, 1024  0           ['conv4_block3_out[0][0]',       \n                                )                                 'conv4_block4_3_bn[0][0]']      \n                                                                                                  \n conv4_block4_out (Activation)  (None, 14, 14, 1024  0           ['conv4_block4_add[0][0]']       \n                                )                                                                 \n                                                                                                  \n conv4_block5_1_conv (Conv2D)   (None, 14, 14, 256)  262400      ['conv4_block4_out[0][0]']       \n                                                                                                  \n conv4_block5_1_bn (BatchNormal  (None, 14, 14, 256)  1024       ['conv4_block5_1_conv[0][0]']    \n ization)                                                                                         \n                                                                                                  \n conv4_block5_1_relu (Activatio  (None, 14, 14, 256)  0          ['conv4_block5_1_bn[0][0]']      \n n)                                                                                               \n                                                                                                  \n conv4_block5_2_conv (Conv2D)   (None, 14, 14, 256)  590080      ['conv4_block5_1_relu[0][0]']    \n                                                                                                  \n conv4_block5_2_bn (BatchNormal  (None, 14, 14, 256)  1024       ['conv4_block5_2_conv[0][0]']    \n ization)                                                                                         \n                                                                                                  \n conv4_block5_2_relu (Activatio  (None, 14, 14, 256)  0          ['conv4_block5_2_bn[0][0]']      \n n)                                                                                               \n                                                                                                  \n conv4_block5_3_conv (Conv2D)   (None, 14, 14, 1024  263168      ['conv4_block5_2_relu[0][0]']    \n                                )                                                                 \n                                                                                                  \n conv4_block5_3_bn (BatchNormal  (None, 14, 14, 1024  4096       ['conv4_block5_3_conv[0][0]']    \n ization)                       )                                                                 \n                                                                                                  \n conv4_block5_add (Add)         (None, 14, 14, 1024  0           ['conv4_block4_out[0][0]',       \n                                )                                 'conv4_block5_3_bn[0][0]']      \n                                                                                                  \n conv4_block5_out (Activation)  (None, 14, 14, 1024  0           ['conv4_block5_add[0][0]']       \n                                )                                                                 \n                                                                                                  \n conv4_block6_1_conv (Conv2D)   (None, 14, 14, 256)  262400      ['conv4_block5_out[0][0]']       \n                                                                                                  \n conv4_block6_1_bn (BatchNormal  (None, 14, 14, 256)  1024       ['conv4_block6_1_conv[0][0]']    \n ization)                                                                                         \n                                                                                                  \n conv4_block6_1_relu (Activatio  (None, 14, 14, 256)  0          ['conv4_block6_1_bn[0][0]']      \n n)                                                                                               \n                                                                                                  \n conv4_block6_2_conv (Conv2D)   (None, 14, 14, 256)  590080      ['conv4_block6_1_relu[0][0]']    \n                                                                                                  \n conv4_block6_2_bn (BatchNormal  (None, 14, 14, 256)  1024       ['conv4_block6_2_conv[0][0]']    \n ization)                                                                                         \n                                                                                                  \n conv4_block6_2_relu (Activatio  (None, 14, 14, 256)  0          ['conv4_block6_2_bn[0][0]']      \n n)                                                                                               \n                                                                                                  \n conv4_block6_3_conv (Conv2D)   (None, 14, 14, 1024  263168      ['conv4_block6_2_relu[0][0]']    \n                                )                                                                 \n                                                                                                  \n conv4_block6_3_bn (BatchNormal  (None, 14, 14, 1024  4096       ['conv4_block6_3_conv[0][0]']    \n ization)                       )                                                                 \n                                                                                                  \n conv4_block6_add (Add)         (None, 14, 14, 1024  0           ['conv4_block5_out[0][0]',       \n                                )                                 'conv4_block6_3_bn[0][0]']      \n                                                                                                  \n conv4_block6_out (Activation)  (None, 14, 14, 1024  0           ['conv4_block6_add[0][0]']       \n                                )                                                                 \n                                                                                                  \n conv5_block1_1_conv (Conv2D)   (None, 7, 7, 512)    524800      ['conv4_block6_out[0][0]']       \n                                                                                                  \n conv5_block1_1_bn (BatchNormal  (None, 7, 7, 512)   2048        ['conv5_block1_1_conv[0][0]']    \n ization)                                                                                         \n                                                                                                  \n conv5_block1_1_relu (Activatio  (None, 7, 7, 512)   0           ['conv5_block1_1_bn[0][0]']      \n n)                                                                                               \n                                                                                                  \n conv5_block1_2_conv (Conv2D)   (None, 7, 7, 512)    2359808     ['conv5_block1_1_relu[0][0]']    \n                                                                                                  \n conv5_block1_2_bn (BatchNormal  (None, 7, 7, 512)   2048        ['conv5_block1_2_conv[0][0]']    \n ization)                                                                                         \n                                                                                                  \n conv5_block1_2_relu (Activatio  (None, 7, 7, 512)   0           ['conv5_block1_2_bn[0][0]']      \n n)                                                                                               \n                                                                                                  \n conv5_block1_0_conv (Conv2D)   (None, 7, 7, 2048)   2099200     ['conv4_block6_out[0][0]']       \n                                                                                                  \n conv5_block1_3_conv (Conv2D)   (None, 7, 7, 2048)   1050624     ['conv5_block1_2_relu[0][0]']    \n                                                                                                  \n conv5_block1_0_bn (BatchNormal  (None, 7, 7, 2048)  8192        ['conv5_block1_0_conv[0][0]']    \n ization)                                                                                         \n                                                                                                  \n conv5_block1_3_bn (BatchNormal  (None, 7, 7, 2048)  8192        ['conv5_block1_3_conv[0][0]']    \n ization)                                                                                         \n                                                                                                  \n conv5_block1_add (Add)         (None, 7, 7, 2048)   0           ['conv5_block1_0_bn[0][0]',      \n                                                                  'conv5_block1_3_bn[0][0]']      \n                                                                                                  \n conv5_block1_out (Activation)  (None, 7, 7, 2048)   0           ['conv5_block1_add[0][0]']       \n                                                                                                  \n conv5_block2_1_conv (Conv2D)   (None, 7, 7, 512)    1049088     ['conv5_block1_out[0][0]']       \n                                                                                                  \n conv5_block2_1_bn (BatchNormal  (None, 7, 7, 512)   2048        ['conv5_block2_1_conv[0][0]']    \n ization)                                                                                         \n                                                                                                  \n conv5_block2_1_relu (Activatio  (None, 7, 7, 512)   0           ['conv5_block2_1_bn[0][0]']      \n n)                                                                                               \n                                                                                                  \n conv5_block2_2_conv (Conv2D)   (None, 7, 7, 512)    2359808     ['conv5_block2_1_relu[0][0]']    \n                                                                                                  \n conv5_block2_2_bn (BatchNormal  (None, 7, 7, 512)   2048        ['conv5_block2_2_conv[0][0]']    \n ization)                                                                                         \n                                                                                                  \n conv5_block2_2_relu (Activatio  (None, 7, 7, 512)   0           ['conv5_block2_2_bn[0][0]']      \n n)                                                                                               \n                                                                                                  \n conv5_block2_3_conv (Conv2D)   (None, 7, 7, 2048)   1050624     ['conv5_block2_2_relu[0][0]']    \n                                                                                                  \n conv5_block2_3_bn (BatchNormal  (None, 7, 7, 2048)  8192        ['conv5_block2_3_conv[0][0]']    \n ization)                                                                                         \n                                                                                                  \n conv5_block2_add (Add)         (None, 7, 7, 2048)   0           ['conv5_block1_out[0][0]',       \n                                                                  'conv5_block2_3_bn[0][0]']      \n                                                                                                  \n conv5_block2_out (Activation)  (None, 7, 7, 2048)   0           ['conv5_block2_add[0][0]']       \n                                                                                                  \n conv5_block3_1_conv (Conv2D)   (None, 7, 7, 512)    1049088     ['conv5_block2_out[0][0]']       \n                                                                                                  \n conv5_block3_1_bn (BatchNormal  (None, 7, 7, 512)   2048        ['conv5_block3_1_conv[0][0]']    \n ization)                                                                                         \n                                                                                                  \n conv5_block3_1_relu (Activatio  (None, 7, 7, 512)   0           ['conv5_block3_1_bn[0][0]']      \n n)                                                                                               \n                                                                                                  \n conv5_block3_2_conv (Conv2D)   (None, 7, 7, 512)    2359808     ['conv5_block3_1_relu[0][0]']    \n                                                                                                  \n conv5_block3_2_bn (BatchNormal  (None, 7, 7, 512)   2048        ['conv5_block3_2_conv[0][0]']    \n ization)                                                                                         \n                                                                                                  \n conv5_block3_2_relu (Activatio  (None, 7, 7, 512)   0           ['conv5_block3_2_bn[0][0]']      \n n)                                                                                               \n                                                                                                  \n conv5_block3_3_conv (Conv2D)   (None, 7, 7, 2048)   1050624     ['conv5_block3_2_relu[0][0]']    \n                                                                                                  \n conv5_block3_3_bn (BatchNormal  (None, 7, 7, 2048)  8192        ['conv5_block3_3_conv[0][0]']    \n ization)                                                                                         \n                                                                                                  \n conv5_block3_add (Add)         (None, 7, 7, 2048)   0           ['conv5_block2_out[0][0]',       \n                                                                  'conv5_block3_3_bn[0][0]']      \n                                                                                                  \n conv5_block3_out (Activation)  (None, 7, 7, 2048)   0           ['conv5_block3_add[0][0]']       \n                                                                                                  \n avg_pool (GlobalAveragePooling  (None, 2048)        0           ['conv5_block3_out[0][0]']       \n 2D)                                                                                              \n                                                                                                  \n predictions (Dense)            (None, 1000)         2049000     ['avg_pool[0][0]']               \n                                                                                                  \n==================================================================================================\nTotal params: 25,636,712\nTrainable params: 25,583,592\nNon-trainable params: 53,120\n__________________________________________________________________________________________________\nfinish\n",
     "output_type": "stream"
    }
   ]
  },
  {
   "cell_type": "code",
   "source": [
    "#model = keras.models.load_model(\"/kaggle/input/resnettestnoepcifar/resnet50_cifar10ep30v2.h5\")\n",
    "#model.summary()\n",
    "#print(x_train[:50].shape)\n",
    "print(\"Prediction: \", np.argmax(model.predict(x_data), axis=1))\n",
    "#print(\"Labels:     \", np.argmax(y_train[:50], axis=1))\n",
    "#Замер времени\n",
    "start_time = time.time()\n",
    "predictions = model.predict(x_data, batch_size=1) #поправил batch_size\n",
    "end_time = time.time()\n",
    "inference_time_keras = end_time - start_time\n",
    "print(\"Время инференса модели Keras: {} секунд\".format(inference_time_keras))"
   ],
   "metadata": {
    "execution": {
     "iopub.status.busy": "2024-03-17T17:43:34.495669Z",
     "iopub.execute_input": "2024-03-17T17:43:34.496291Z",
     "iopub.status.idle": "2024-03-17T17:43:43.510919Z",
     "shell.execute_reply.started": "2024-03-17T17:43:34.496255Z",
     "shell.execute_reply": "2024-03-17T17:43:43.509969Z"
    },
    "trusted": true
   },
   "execution_count": 7,
   "outputs": [
    {
     "name": "stdout",
     "text": "2/2 [==============================] - 5s 1s/step\nPrediction:  [  6 126 338  29  29  29  29  29  29  29  29 124  29  29  29  29  29 329\n  29  29 103  35  39  29  29  29 633  29 712  29  29  29  29  29  29  29\n  29  29   1  29  29  29  29  29  29  29  79  29  50  29]\n50/50 [==============================] - 4s 82ms/step\nВремя инференса модели Keras: 4.206265926361084 секунд\n",
     "output_type": "stream"
    }
   ]
  },
  {
   "cell_type": "code",
   "source": [
    "input_shape = [1, 224, 224, 3] # [batch, height, width, channels]\n",
    "#shape_dict = {\"input_input\": input_shape}\n",
    "shape_dict = {\"input_1\": input_shape}\n",
    "from tvm import relay\n",
    "mod, params = relay.frontend.from_keras(model, shape_dict, layout=\"NHWC\") #подгрузка модели\n",
    "#print(mod)\n",
    "\n",
    "\n",
    "target = tvm.target.Target(\"llvm  -mcpu=core-avx2\")\n",
    "#target = tvm.target.Target(\"llvm\")\n",
    "dev = tvm.cpu(0)\n",
    "\n",
    "with tvm.transform.PassContext(opt_level=3): #проводим тесты над нейросетью в tvm //    tvm_model(data.reshape(1, 28, 28, 1)).numpy()[0]\n",
    "    tvm_model = relay.build_module.create_executor(\"graph\", mod, dev, target, params).evaluate()"
   ],
   "metadata": {
    "execution": {
     "iopub.status.busy": "2024-03-17T17:43:43.512567Z",
     "iopub.execute_input": "2024-03-17T17:43:43.512868Z",
     "iopub.status.idle": "2024-03-17T17:44:28.919231Z",
     "shell.execute_reply.started": "2024-03-17T17:43:43.512843Z",
     "shell.execute_reply": "2024-03-17T17:44:28.918045Z"
    },
    "trusted": true
   },
   "execution_count": 8,
   "outputs": []
  },
  {
   "cell_type": "code",
   "source": [
    "print(x_data.shape)\n",
    "reshaped_data = [data.reshape(1, 224, 224, 3) for data in x_data]\n",
    "results = []\n",
    "\n",
    "# Проводим инференс над измененными данными\n",
    "start_time_tvm = time.time()\n",
    "for data in reshaped_data:\n",
    "    tvm_model(data).numpy()[0]\n",
    "end_time_tvm = time.time()\n",
    "inference_time_tvm = end_time_tvm - start_time_tvm\n",
    "print(\"Время инференса модели TVM: {} секунд\".format(inference_time_tvm))"
   ],
   "metadata": {
    "execution": {
     "iopub.status.busy": "2024-03-17T17:44:28.921817Z",
     "iopub.execute_input": "2024-03-17T17:44:28.922229Z",
     "iopub.status.idle": "2024-03-17T17:44:40.018571Z",
     "shell.execute_reply.started": "2024-03-17T17:44:28.922191Z",
     "shell.execute_reply": "2024-03-17T17:44:40.017519Z"
    },
    "trusted": true
   },
   "execution_count": 9,
   "outputs": [
    {
     "name": "stdout",
     "text": "(50, 224, 224, 3)\nВремя инференса модели TVM: 11.089477062225342 секунд\n",
     "output_type": "stream"
    }
   ]
  }
 ]
}
